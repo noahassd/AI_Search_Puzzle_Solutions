{
  "nbformat": 4,
  "nbformat_minor": 0,
  "metadata": {
    "colab": {
      "provenance": []
    },
    "kernelspec": {
      "name": "python3",
      "display_name": "Python 3"
    },
    "language_info": {
      "name": "python"
    }
  },
  "cells": [
    {
      "cell_type": "code",
      "execution_count": null,
      "metadata": {
        "id": "tI-OWSxrOepN"
      },
      "outputs": [],
      "source": [
        "import numpy as np\n",
        "from copy import deepcopy\n",
        "from collections import deque\n"
      ]
    },
    {
      "cell_type": "code",
      "source": [
        "pip install jdc\n"
      ],
      "metadata": {
        "colab": {
          "base_uri": "https://localhost:8080/"
        },
        "id": "FvYFrt8u5RlO",
        "outputId": "e34818b1-9dc2-412c-dcda-67d95b8c1a8a"
      },
      "execution_count": null,
      "outputs": [
        {
          "output_type": "stream",
          "name": "stdout",
          "text": [
            "Collecting jdc\n",
            "  Downloading jdc-0.0.9-py2.py3-none-any.whl.metadata (817 bytes)\n",
            "Downloading jdc-0.0.9-py2.py3-none-any.whl (2.1 kB)\n",
            "Installing collected packages: jdc\n",
            "Successfully installed jdc-0.0.9\n"
          ]
        }
      ]
    },
    {
      "cell_type": "code",
      "source": [
        "import jdc #need pip install jdc to run it\n",
        "#use do have jupiter dynamic classes to avoid copy paste for the class"
      ],
      "metadata": {
        "id": "YFDvV_rjTs7y"
      },
      "execution_count": null,
      "outputs": []
    },
    {
      "cell_type": "markdown",
      "source": [
        "### 1. Formulation du problème :\n"
      ],
      "metadata": {
        "id": "we8kNPeoOvEx"
      }
    },
    {
      "cell_type": "code",
      "source": [
        "class EightPuzzle:\n",
        "    def __init__(self, initial_state, goal_state): #basic constructor with initial and goal state\n",
        "        self.initial_state = initial_state\n",
        "        self.goal_state = goal_state\n",
        "        self.taille = 3 #we declare the size off the row or column to use it after so its easier\n",
        "\n",
        "    def empty_tile(self, state):\n",
        "        return tuple(np.argwhere(state == 0)[0])\n",
        "\n",
        "    def move_possible(self, state):\n",
        "        empty_tile = self.empty_tile(state) #get the 0 tile\n",
        "        x, y = empty_tile\n",
        "        moves = []\n",
        "        if x > 0: #if the place up is not a \"wall\"\n",
        "            moves.append(\"up\")  #we can go up then\n",
        "        if x < self.taille - 1:#if the bottom tile is available we can go down\n",
        "            moves.append(\"down\")\n",
        "        if y > 0:# we check if the left tile is available\n",
        "            moves.append(\"left\")\n",
        "        if y < self.taille - 1:#we check is right is available\n",
        "            moves.append(\"right\")\n",
        "        return moves\n",
        "\n",
        "    def move(self, state, action):#in this method we've just store a tile in a variable and we change it with the 0\n",
        "        empty_tile = self.empty_tile(state)\n",
        "        x, y = empty_tile\n",
        "\n",
        "        new_state = deepcopy(state)\n",
        "\n",
        "        if action == \"up\" and x > 0:#all of these are for each move the tile is replaced\n",
        "            new_state[x, y], new_state[x - 1, y] = new_state[x - 1, y], new_state[x, y]\n",
        "        elif action == \"down\" and x < self.taille - 1:\n",
        "            new_state[x, y], new_state[x + 1, y] = new_state[x + 1, y], new_state[x, y]\n",
        "        elif action == \"left\" and y > 0:\n",
        "            new_state[x, y], new_state[x, y - 1] = new_state[x, y - 1], new_state[x, y]\n",
        "        elif action == \"right\" and y < self.taille - 1:\n",
        "            new_state[x, y], new_state[x, y + 1] = new_state[x, y + 1], new_state[x, y]\n",
        "\n",
        "        return new_state\n",
        "\n",
        "\n",
        "    def is_goal(self, state): #checking if the state we have is the goal state\n",
        "        return np.array_equal(state, self.goal_state)\n",
        "\n",
        "    def state_to_tuple(self, state): #modifiying array to tuple method found on internet\n",
        "\n",
        "        state_tuple = tuple(tuple(row) for row in state) #we will use tuple because with np array this is too long or impossible\n",
        "        return state_tuple\n"
      ],
      "metadata": {
        "id": "upagoRYAO0IR"
      },
      "execution_count": null,
      "outputs": []
    },
    {
      "cell_type": "markdown",
      "source": [
        "Let's test our class :"
      ],
      "metadata": {
        "id": "QoICg8NKoxKA"
      }
    },
    {
      "cell_type": "code",
      "source": [
        "initial_state = np.array([[1, 2, 3],\n",
        "                          [4, 0, 5],\n",
        "                          [6, 7, 8]])\n",
        "\n",
        "goal_state = np.array([[1, 2, 3],\n",
        "                       [4, 5, 6],\n",
        "                       [7, 8, 0]])\n",
        "\n",
        "puzzle = EightPuzzle(initial_state, goal_state)\n",
        "print(\"État initial :\")\n",
        "print(puzzle.initial_state)\n",
        "possible_moves = puzzle.move_possible(puzzle.initial_state)\n",
        "print(\"\\nMouvements possibles :\", possible_moves)\n",
        "new_state = puzzle.move(puzzle.initial_state, \"down\")\n",
        "print(\"\\nÉtat après mouvement 'down' :\")\n",
        "print(new_state)\n",
        "new_state = puzzle.move(new_state, \"right\")\n",
        "print(\"\\nÉtat après mouvement 'right' :\")\n",
        "print(new_state)\n",
        "is_goal = puzzle.is_goal(new_state)\n",
        "print(\"\\nEst-ce l'état but ?\", is_goal)"
      ],
      "metadata": {
        "colab": {
          "base_uri": "https://localhost:8080/"
        },
        "id": "7ZiJsiwaozuk",
        "outputId": "187e6ecb-01f6-4541-d334-cd623566c541"
      },
      "execution_count": null,
      "outputs": [
        {
          "output_type": "stream",
          "name": "stdout",
          "text": [
            "État initial :\n",
            "[[1 2 3]\n",
            " [4 0 5]\n",
            " [6 7 8]]\n",
            "\n",
            "Mouvements possibles : ['up', 'down', 'left', 'right']\n",
            "\n",
            "État après mouvement 'down' :\n",
            "[[1 2 3]\n",
            " [4 7 5]\n",
            " [6 0 8]]\n",
            "\n",
            "État après mouvement 'right' :\n",
            "[[1 2 3]\n",
            " [4 7 5]\n",
            " [6 8 0]]\n",
            "\n",
            "Est-ce l'état but ? False\n"
          ]
        }
      ]
    },
    {
      "cell_type": "markdown",
      "source": [
        "Our class is working so let's keep going"
      ],
      "metadata": {
        "id": "ow3AstVf3Hvx"
      }
    },
    {
      "cell_type": "markdown",
      "source": [
        "### 2. Uniform Cost Search (UCS) :\n"
      ],
      "metadata": {
        "id": "mVMRh5GdSK1F"
      }
    },
    {
      "cell_type": "code",
      "source": [
        "%%add_to EightPuzzle\n",
        "#adding the method to our class eightpuzzle\n",
        "def uniform_cost_search(self):\n",
        "    frontier = [(0, self.initial_state, [])] #creating our frontier based on state, nodes explored\n",
        "    explored = set()\n",
        "    while frontier:\n",
        "        cost, current_state, path = frontier.pop(0)  #get rid of first element\n",
        "        if self.is_goal(current_state):#checking goal\n",
        "            return path, cost,len(explored)\n",
        "        state_tuple = self.state_to_tuple(current_state)#changing to tuple to make it easier for the following\n",
        "        explored.add(state_tuple)\n",
        "        for action in self.move_possible(current_state): #here we enhance the move\n",
        "            new_state = self.move(current_state, action)\n",
        "            new_cost = cost + 1\n",
        "            new_state_tuple = self.state_to_tuple(new_state)\n",
        "            if new_state_tuple not in explored: #cheking if the state we're in is explored or not\n",
        "                frontier.append((new_cost, new_state, path + [action]))\n",
        "\n",
        "    return None, float('inf'),len(explored) # if no solution is found\n"
      ],
      "metadata": {
        "id": "UJivvmXivOsp"
      },
      "execution_count": null,
      "outputs": []
    },
    {
      "cell_type": "code",
      "source": [
        "path, cost,nodes_exp = puzzle.uniform_cost_search()\n",
        "\n",
        "print(\"Chemin trouvé :\", path)\n",
        "print(\"Coût :\", cost)\n"
      ],
      "metadata": {
        "colab": {
          "base_uri": "https://localhost:8080/"
        },
        "id": "FI15DxzKwFyY",
        "outputId": "0e87b181-6010-46c3-ad34-3cf0ec8fdb78"
      },
      "execution_count": null,
      "outputs": [
        {
          "output_type": "stream",
          "name": "stdout",
          "text": [
            "Chemin trouvé : ['right', 'down', 'left', 'left', 'up', 'right', 'down', 'right', 'up', 'left', 'left', 'down', 'right', 'right']\n",
            "Coût : 14\n"
          ]
        }
      ]
    },
    {
      "cell_type": "markdown",
      "source": [
        "### 3. Heuristics for A* Search"
      ],
      "metadata": {
        "id": "TlLKaXUNxi_o"
      }
    },
    {
      "cell_type": "markdown",
      "source": [
        "Misplaced Tiles heuristic"
      ],
      "metadata": {
        "id": "j_j2ZeyWxq8N"
      }
    },
    {
      "cell_type": "code",
      "source": [
        "%%add_to EightPuzzle\n",
        "def misplaced_tiles_heuristic(self, state): #basic method to get the sum of all missing tiles\n",
        "    count = 0\n",
        "    for i in range(self.taille):\n",
        "        for j in range(self.taille):\n",
        "            if state[i, j] != self.goal_state[i, j]:\n",
        "                count += 1\n",
        "    return count\n"
      ],
      "metadata": {
        "id": "wenxZlK1xrcZ"
      },
      "execution_count": null,
      "outputs": []
    },
    {
      "cell_type": "code",
      "source": [
        "%%add_to EightPuzzle\n",
        "def manhattan_distance_heuristic(self, state): #here we have to get the manhatthan distance for each tiles, this result in abs(i - goal_i) + abs(j - goal_j)\n",
        "    distance = 0\n",
        "    for i in range(self.taille):\n",
        "        for j in range(self.taille):\n",
        "            value = state[i, j]\n",
        "            if value != 0: #checking if we are on the 0 spot thus we dont count if its the 0\n",
        "                goal_i, goal_j = np.argwhere(self.goal_state == value)[0]\n",
        "                distance += abs(i - goal_i) + abs(j - goal_j)\n",
        "    return distance"
      ],
      "metadata": {
        "id": "8NYHyq2QVD7H"
      },
      "execution_count": null,
      "outputs": []
    },
    {
      "cell_type": "code",
      "source": [
        "#lets test our two heuristics :\n",
        "misplaced_tiles = puzzle.misplaced_tiles_heuristic(initial_state)\n",
        "manhattan_distance = puzzle.manhattan_distance_heuristic(initial_state)\n",
        "\n",
        "print(f\"Misplaced Tiles Heuristic: {misplaced_tiles}\")\n",
        "print(f\"Manhattan Distance Heuristic: {manhattan_distance}\")"
      ],
      "metadata": {
        "id": "a1_BPybcwxf_",
        "colab": {
          "base_uri": "https://localhost:8080/"
        },
        "outputId": "b6c99867-df22-4fdd-a32e-7b069b8c414f"
      },
      "execution_count": null,
      "outputs": [
        {
          "output_type": "stream",
          "name": "stdout",
          "text": [
            "Misplaced Tiles Heuristic: 5\n",
            "Manhattan Distance Heuristic: 6\n"
          ]
        }
      ]
    },
    {
      "cell_type": "markdown",
      "source": [
        "###  4. Best-First Search Algorithm"
      ],
      "metadata": {
        "id": "_hD0kLg5Hcu-"
      }
    },
    {
      "cell_type": "code",
      "source": [
        "%%add_to EightPuzzle\n",
        "def best_first_search(self, heuristic):\n",
        "    queue = [(heuristic(self.initial_state), self.initial_state, [])]#h1 ouh2, state ici l'initial mais changera dans la boucle, chemin\n",
        "    explored=set() #we use set to avoid getting back the same state so we dont go back on a thing we allready checked\n",
        "\n",
        "    while queue : #on verifie que la frontiere ne soit pas vide vu quon pop chaque state a chaque iteration.\n",
        "        queue.sort(key=lambda x : x[0])\n",
        "        _, current_state, path = queue.pop(0) #we dont need heuristic back\n",
        "        if self.is_goal(current_state):\n",
        "           return path,len(explored)\n",
        "        state_tuple = self.state_to_tuple(current_state)#je met en tuple pour faciliter le tri et eviter l'inf\n",
        "        explored.add(state_tuple)\n",
        "\n",
        "        for action in self.move_possible(current_state): #here solution is not goal so we need to get the moves possible and make it move\n",
        "            new_state = self.move(current_state, action)  # Move to new state\n",
        "            new_state_tuple = self.state_to_tuple(new_state)\n",
        "            if new_state_tuple not in explored:\n",
        "                new_path = path + [action] #we add the action to our old path\n",
        "                new_heuristic = heuristic(self.move(current_state, action))\n",
        "                queue.append((new_heuristic, self.move(current_state, action), new_path))#we add to queue our new path that we hot before\n",
        "    return None,float('inf')\n"
      ],
      "metadata": {
        "id": "lOT4FYfDHeOj"
      },
      "execution_count": null,
      "outputs": []
    },
    {
      "cell_type": "markdown",
      "source": [
        "lets test our BFS method."
      ],
      "metadata": {
        "id": "XtaBcYZVLYxA"
      }
    },
    {
      "cell_type": "code",
      "source": [
        "heuristic=puzzle.manhattan_distance_heuristic(initial_state)\n",
        "print(\"heuristic:\",heuristic)\n",
        "path, length = puzzle.best_first_search(puzzle.manhattan_distance_heuristic)\n",
        "print(\"with manathan dist heur we have path :\",path)\n",
        "print(\"nodes explored :\",length)\n",
        "path, length = puzzle.best_first_search(puzzle.misplaced_tiles_heuristic)\n",
        "heuristic=puzzle.misplaced_tiles_heuristic(initial_state)\n",
        "print(\"heuristic:\",heuristic)\n",
        "print(\"with misplaced tiles heur we have path :\",path)\n",
        "print(\"nodes explored :\",length)\n"
      ],
      "metadata": {
        "colab": {
          "base_uri": "https://localhost:8080/"
        },
        "id": "OsdIXd_aLa4b",
        "outputId": "22ffb8b1-0a2b-4d1a-d68a-89c8a3996e2a"
      },
      "execution_count": null,
      "outputs": [
        {
          "output_type": "stream",
          "name": "stdout",
          "text": [
            "heuristic: 6\n",
            "with manathan dist heur we have path : ['left', 'down', 'right', 'up', 'left', 'down', 'right', 'right', 'up', 'left', 'left', 'down', 'right', 'right', 'up', 'left', 'down', 'left', 'up', 'right', 'right', 'down', 'left', 'up', 'left', 'down', 'right', 'right']\n",
            "nodes explored : 95\n",
            "heuristic: 5\n",
            "with misplaced tiles heur we have path : ['right', 'down', 'left', 'left', 'up', 'right', 'down', 'right', 'up', 'left', 'left', 'down', 'right', 'right']\n",
            "nodes explored : 151\n"
          ]
        }
      ]
    },
    {
      "cell_type": "markdown",
      "source": [
        "### 5. Admissible Heuristic"
      ],
      "metadata": {
        "id": "iU2gLHtTNgbv"
      }
    },
    {
      "cell_type": "code",
      "source": [
        "%%add_to EightPuzzle\n",
        "def row_colon_heuristic(self,state): #here we do the same as for the misplaced tiles heuristic but we add the fact that the column and the rows are separated\n",
        "    tiles_row=0\n",
        "    tiles_col=0\n",
        "    for i in range(self.taille):\n",
        "        for j in range(self.taille):\n",
        "            if state[i,j]!=0:\n",
        "                goal_i,goal_j=np.argwhere(self.goal_state==state[i,j])[0] #getting the tiles in the place that we need (goal state )\n",
        "                if i != goal_i:\n",
        "                    tiles_row+=1\n",
        "                if goal_j!=j:\n",
        "                    tiles_col+=1\n",
        "    return tiles_row+tiles_col\n"
      ],
      "metadata": {
        "id": "9Opl69R3NkbU"
      },
      "execution_count": null,
      "outputs": []
    },
    {
      "cell_type": "markdown",
      "source": [
        "Lets test our last heuristic with BFS algorithm"
      ],
      "metadata": {
        "id": "ReRaUvW-QHMa"
      }
    },
    {
      "cell_type": "code",
      "source": [
        "heuristic=puzzle.row_colon_heuristic(initial_state)\n",
        "print(\"heuristic:\",heuristic)\n",
        "path, length = puzzle.best_first_search(puzzle.row_colon_heuristic)\n",
        "print(\"with manathan dist heur we have path :\",path)\n",
        "print(\"nodes explored :\",length)"
      ],
      "metadata": {
        "colab": {
          "base_uri": "https://localhost:8080/"
        },
        "id": "-W5VI6rkQQ2h",
        "outputId": "d0dc8297-f04e-458e-e64b-c21eae178fcc"
      },
      "execution_count": null,
      "outputs": [
        {
          "output_type": "stream",
          "name": "stdout",
          "text": [
            "heuristic: 5\n",
            "with manathan dist heur we have path : ['left', 'down', 'right', 'up', 'left', 'down', 'right', 'right', 'up', 'left', 'left', 'down', 'right', 'right', 'up', 'left', 'down', 'left', 'up', 'right', 'right', 'down', 'left', 'up', 'left', 'down', 'right', 'right']\n",
            "nodes explored : 93\n"
          ]
        }
      ]
    },
    {
      "cell_type": "markdown",
      "source": [
        "Now we must compare our heuristic on an other intial state to see wich one is the best\n"
      ],
      "metadata": {
        "id": "9a6iB2TjSomT"
      }
    },
    {
      "cell_type": "code",
      "source": [
        "initial_state = np.array([[8, 4, 3],\n",
        "                          [7, 0, 2],\n",
        "                          [6, 5, 1]]) #changed initial state( more complicate)\n",
        "\n",
        "goal_state = np.array([[1, 2, 3],\n",
        "                       [4, 5, 6],\n",
        "                       [7, 8, 0]])\n",
        "puzzle = EightPuzzle(initial_state, goal_state)\n",
        "heuristic=puzzle.manhattan_distance_heuristic(initial_state)\n",
        "print(\"heuristic manhattan:\",heuristic)\n",
        "heuristic=puzzle.row_colon_heuristic(initial_state)\n",
        "print(\"heuristic row column :\",heuristic)\n",
        "heuristic=puzzle.misplaced_tiles_heuristic(initial_state)\n",
        "print(\"heuristic misplaced :\",heuristic)\n"
      ],
      "metadata": {
        "colab": {
          "base_uri": "https://localhost:8080/"
        },
        "id": "mRVuTx1zSvhU",
        "outputId": "d1ccae78-bcc0-4aa8-fab4-b9979c6190a1"
      },
      "execution_count": null,
      "outputs": [
        {
          "output_type": "stream",
          "name": "stdout",
          "text": [
            "heuristic manhattan: 16\n",
            "heuristic row column : 12\n",
            "heuristic misplaced : 8\n"
          ]
        }
      ]
    },
    {
      "cell_type": "markdown",
      "source": [
        "This heuristic is admissible because it doesnt overestimate the path cost. Moreover this heuristic is slightly better than the first one misplace tiles because it takes in consideration the fact that this is a matrix with row and column. To finish, H3 row and column is not the best one, h2 manhathan distance is the best one because it gives exactly the number of moves needed to have the goal state."
      ],
      "metadata": {
        "id": "cG2KB4jgRrcZ"
      }
    },
    {
      "cell_type": "markdown",
      "source": [
        "### 6. A* Search"
      ],
      "metadata": {
        "id": "C4eRQW_GVy_l"
      }
    },
    {
      "cell_type": "code",
      "source": [
        "%%add_to EightPuzzle\n",
        "def a_star_search(self, heuristic):\n",
        "    queue = [(0 + heuristic(self.initial_state), 0, self.initial_state, [])] #making a queue as a frontier of the heuristic f_n,  the cost g_n, the state and the path.\n",
        "    explored=set()\n",
        "    while queue : #we do it until the queue is null or the state is the goal state\n",
        "        queue.sort(key=lambda x : x[0]) #wwe sort it to have least heuristic in the first place.\n",
        "        f_n, g_n, current_state, path = queue.pop(0)\n",
        "        if self.is_goal(current_state):\n",
        "           return path,g_n,len(explored)\n",
        "        state_tuple = self.state_to_tuple(current_state)\n",
        "        explored.add(state_tuple)\n",
        "        for action in self.move_possible(current_state):\n",
        "            new_state = self.move(current_state, action)  # moving to new state\n",
        "            new_state_tuple = self.state_to_tuple(new_state)\n",
        "            if new_state_tuple not in explored:\n",
        "                new_g_n = g_n + 1  # increment g_n by 1 (cost)\n",
        "                new_f_n = new_g_n + heuristic(new_state)  # f(n) = g(n) + h(n)\n",
        "                queue.append((new_f_n, new_g_n, new_state, path + [action]))\n",
        "\n",
        "    return None, 'inf', len(explored)\n"
      ],
      "metadata": {
        "id": "BXSFziDjV7ML"
      },
      "execution_count": null,
      "outputs": []
    },
    {
      "cell_type": "code",
      "source": [
        "path,g_n, length = puzzle.a_star_search(puzzle.manhattan_distance_heuristic)\n",
        "print(\"with manathan dist heur we have path :\",path)\n",
        "print(\"cost :\",g_n)\n",
        "print(\"nodes explored :\",length)\n",
        "path,g_n, length = puzzle.a_star_search(puzzle.misplaced_tiles_heuristic)\n",
        "print(\"with misplaced tiles heur we have path :\",path)\n",
        "print(\"cost :\",g_n)\n",
        "print(\"nodes explored :\",length)"
      ],
      "metadata": {
        "colab": {
          "base_uri": "https://localhost:8080/"
        },
        "id": "GqtjKr6VXKeN",
        "outputId": "3a47d52f-fc2c-4c02-ef91-ab1d582ab412"
      },
      "execution_count": null,
      "outputs": [
        {
          "output_type": "stream",
          "name": "stdout",
          "text": [
            "with manathan dist heur we have path : ['right', 'down', 'left', 'left', 'up', 'up', 'right', 'down', 'right', 'up', 'left', 'down', 'left', 'up', 'right', 'right', 'down', 'down', 'left', 'up', 'right', 'down']\n",
            "cost : 22\n",
            "nodes explored : 805\n",
            "with misplaced tiles heur we have path : ['right', 'down', 'left', 'left', 'up', 'up', 'right', 'down', 'right', 'up', 'left', 'down', 'left', 'up', 'right', 'right', 'down', 'down', 'left', 'up', 'right', 'down']\n",
            "cost : 22\n",
            "nodes explored : 9853\n"
          ]
        }
      ]
    },
    {
      "cell_type": "markdown",
      "source": [
        "We can see that for both heuristics the cost is the same but for the manhattan (h2) the number of nodes explored is way less than h1"
      ],
      "metadata": {
        "id": "prm16zARZDwv"
      }
    },
    {
      "cell_type": "markdown",
      "source": [
        "### 7. Comparaison and analysis"
      ],
      "metadata": {
        "id": "_cYgNeaKaYdp"
      }
    },
    {
      "cell_type": "markdown",
      "source": [
        "Lets first have a look about the time of execution, the cost and the number of nodes explored :"
      ],
      "metadata": {
        "id": "SnE_vWPcaeMq"
      }
    },
    {
      "cell_type": "code",
      "source": [
        "import time\n",
        "\n",
        "start_time_ucs = time.time() #starting timer\n",
        "path_ucs, cost_ucs ,nodes_exp= puzzle.uniform_cost_search()\n",
        "end_time_ucs = time.time()#ending timer\n",
        "execution_time_ucs = end_time_ucs - start_time_ucs\n",
        "print(f\"Uniform Cost Search  Execution Time: {execution_time_ucs} seconds\")\n",
        "\n",
        "start_time_a_star = time.time()\n",
        "path_a_star, cost_a_star, nodes_explored = puzzle.a_star_search(puzzle.manhattan_distance_heuristic)\n",
        "end_time_a_star = time.time()\n",
        "execution_time_a_star = end_time_a_star - start_time_a_star\n",
        "print(f\"A* Search (Manhattan Heuristic) Execution Time: {execution_time_a_star} seconds\")\n"
      ],
      "metadata": {
        "colab": {
          "base_uri": "https://localhost:8080/"
        },
        "id": "i7v0yjI6ahIH",
        "outputId": "ef76fa9d-c65b-4da7-cbd9-cb91490520b2"
      },
      "execution_count": null,
      "outputs": [
        {
          "output_type": "stream",
          "name": "stdout",
          "text": [
            "Uniform Cost Search  Execution Time: 23.06769323348999 seconds\n",
            "A* Search (Manhattan Heuristic) Execution Time: 0.1948690414428711 seconds\n"
          ]
        }
      ]
    },
    {
      "cell_type": "markdown",
      "source": [
        "Let's store all the datas in a data frame so we can compare both\n"
      ],
      "metadata": {
        "id": "RBYUd7cha0B-"
      }
    },
    {
      "cell_type": "code",
      "source": [
        "import pandas as pd\n",
        "\n",
        "results = {\n",
        "    \"Algorithm\": [\"Uniform Cost Search\", \"A* with Manhattan Distance\"],\n",
        "    \"Cost (Solution)\": [cost_ucs, cost_a_star],\n",
        "    \"Execution Time (seconds)\": [execution_time_ucs, execution_time_a_star],\n",
        "    \"Nodes Explored\": [nodes_exp, nodes_explored],\n",
        "    \"Path Length\": [len(path_ucs) if path_ucs else 0, len(path_a_star) if path_a_star else 0]\n",
        "\n",
        "}\n",
        "\n",
        "df_results = pd.DataFrame(results)\n",
        "df_results.head()\n"
      ],
      "metadata": {
        "colab": {
          "base_uri": "https://localhost:8080/",
          "height": 112
        },
        "id": "h8aMEIU4a52Z",
        "outputId": "921d75cc-0ec9-4896-d95a-d8994b1349ce"
      },
      "execution_count": null,
      "outputs": [
        {
          "output_type": "execute_result",
          "data": {
            "text/plain": [
              "                    Algorithm  Cost (Solution)  Execution Time (seconds)  \\\n",
              "0         Uniform Cost Search               22                 23.067693   \n",
              "1  A* with Manhattan Distance               22                  0.194869   \n",
              "\n",
              "   Nodes Explored  Path Length  \n",
              "0          106202           22  \n",
              "1             805           22  "
            ],
            "text/html": [
              "\n",
              "  <div id=\"df-11d7278a-ec8a-42f2-aeac-47d2bb47fff8\" class=\"colab-df-container\">\n",
              "    <div>\n",
              "<style scoped>\n",
              "    .dataframe tbody tr th:only-of-type {\n",
              "        vertical-align: middle;\n",
              "    }\n",
              "\n",
              "    .dataframe tbody tr th {\n",
              "        vertical-align: top;\n",
              "    }\n",
              "\n",
              "    .dataframe thead th {\n",
              "        text-align: right;\n",
              "    }\n",
              "</style>\n",
              "<table border=\"1\" class=\"dataframe\">\n",
              "  <thead>\n",
              "    <tr style=\"text-align: right;\">\n",
              "      <th></th>\n",
              "      <th>Algorithm</th>\n",
              "      <th>Cost (Solution)</th>\n",
              "      <th>Execution Time (seconds)</th>\n",
              "      <th>Nodes Explored</th>\n",
              "      <th>Path Length</th>\n",
              "    </tr>\n",
              "  </thead>\n",
              "  <tbody>\n",
              "    <tr>\n",
              "      <th>0</th>\n",
              "      <td>Uniform Cost Search</td>\n",
              "      <td>22</td>\n",
              "      <td>23.067693</td>\n",
              "      <td>106202</td>\n",
              "      <td>22</td>\n",
              "    </tr>\n",
              "    <tr>\n",
              "      <th>1</th>\n",
              "      <td>A* with Manhattan Distance</td>\n",
              "      <td>22</td>\n",
              "      <td>0.194869</td>\n",
              "      <td>805</td>\n",
              "      <td>22</td>\n",
              "    </tr>\n",
              "  </tbody>\n",
              "</table>\n",
              "</div>\n",
              "    <div class=\"colab-df-buttons\">\n",
              "\n",
              "  <div class=\"colab-df-container\">\n",
              "    <button class=\"colab-df-convert\" onclick=\"convertToInteractive('df-11d7278a-ec8a-42f2-aeac-47d2bb47fff8')\"\n",
              "            title=\"Convert this dataframe to an interactive table.\"\n",
              "            style=\"display:none;\">\n",
              "\n",
              "  <svg xmlns=\"http://www.w3.org/2000/svg\" height=\"24px\" viewBox=\"0 -960 960 960\">\n",
              "    <path d=\"M120-120v-720h720v720H120Zm60-500h600v-160H180v160Zm220 220h160v-160H400v160Zm0 220h160v-160H400v160ZM180-400h160v-160H180v160Zm440 0h160v-160H620v160ZM180-180h160v-160H180v160Zm440 0h160v-160H620v160Z\"/>\n",
              "  </svg>\n",
              "    </button>\n",
              "\n",
              "  <style>\n",
              "    .colab-df-container {\n",
              "      display:flex;\n",
              "      gap: 12px;\n",
              "    }\n",
              "\n",
              "    .colab-df-convert {\n",
              "      background-color: #E8F0FE;\n",
              "      border: none;\n",
              "      border-radius: 50%;\n",
              "      cursor: pointer;\n",
              "      display: none;\n",
              "      fill: #1967D2;\n",
              "      height: 32px;\n",
              "      padding: 0 0 0 0;\n",
              "      width: 32px;\n",
              "    }\n",
              "\n",
              "    .colab-df-convert:hover {\n",
              "      background-color: #E2EBFA;\n",
              "      box-shadow: 0px 1px 2px rgba(60, 64, 67, 0.3), 0px 1px 3px 1px rgba(60, 64, 67, 0.15);\n",
              "      fill: #174EA6;\n",
              "    }\n",
              "\n",
              "    .colab-df-buttons div {\n",
              "      margin-bottom: 4px;\n",
              "    }\n",
              "\n",
              "    [theme=dark] .colab-df-convert {\n",
              "      background-color: #3B4455;\n",
              "      fill: #D2E3FC;\n",
              "    }\n",
              "\n",
              "    [theme=dark] .colab-df-convert:hover {\n",
              "      background-color: #434B5C;\n",
              "      box-shadow: 0px 1px 3px 1px rgba(0, 0, 0, 0.15);\n",
              "      filter: drop-shadow(0px 1px 2px rgba(0, 0, 0, 0.3));\n",
              "      fill: #FFFFFF;\n",
              "    }\n",
              "  </style>\n",
              "\n",
              "    <script>\n",
              "      const buttonEl =\n",
              "        document.querySelector('#df-11d7278a-ec8a-42f2-aeac-47d2bb47fff8 button.colab-df-convert');\n",
              "      buttonEl.style.display =\n",
              "        google.colab.kernel.accessAllowed ? 'block' : 'none';\n",
              "\n",
              "      async function convertToInteractive(key) {\n",
              "        const element = document.querySelector('#df-11d7278a-ec8a-42f2-aeac-47d2bb47fff8');\n",
              "        const dataTable =\n",
              "          await google.colab.kernel.invokeFunction('convertToInteractive',\n",
              "                                                    [key], {});\n",
              "        if (!dataTable) return;\n",
              "\n",
              "        const docLinkHtml = 'Like what you see? Visit the ' +\n",
              "          '<a target=\"_blank\" href=https://colab.research.google.com/notebooks/data_table.ipynb>data table notebook</a>'\n",
              "          + ' to learn more about interactive tables.';\n",
              "        element.innerHTML = '';\n",
              "        dataTable['output_type'] = 'display_data';\n",
              "        await google.colab.output.renderOutput(dataTable, element);\n",
              "        const docLink = document.createElement('div');\n",
              "        docLink.innerHTML = docLinkHtml;\n",
              "        element.appendChild(docLink);\n",
              "      }\n",
              "    </script>\n",
              "  </div>\n",
              "\n",
              "\n",
              "<div id=\"df-dea0cbe4-820b-4806-a419-1c3f9d1b7b2d\">\n",
              "  <button class=\"colab-df-quickchart\" onclick=\"quickchart('df-dea0cbe4-820b-4806-a419-1c3f9d1b7b2d')\"\n",
              "            title=\"Suggest charts\"\n",
              "            style=\"display:none;\">\n",
              "\n",
              "<svg xmlns=\"http://www.w3.org/2000/svg\" height=\"24px\"viewBox=\"0 0 24 24\"\n",
              "     width=\"24px\">\n",
              "    <g>\n",
              "        <path d=\"M19 3H5c-1.1 0-2 .9-2 2v14c0 1.1.9 2 2 2h14c1.1 0 2-.9 2-2V5c0-1.1-.9-2-2-2zM9 17H7v-7h2v7zm4 0h-2V7h2v10zm4 0h-2v-4h2v4z\"/>\n",
              "    </g>\n",
              "</svg>\n",
              "  </button>\n",
              "\n",
              "<style>\n",
              "  .colab-df-quickchart {\n",
              "      --bg-color: #E8F0FE;\n",
              "      --fill-color: #1967D2;\n",
              "      --hover-bg-color: #E2EBFA;\n",
              "      --hover-fill-color: #174EA6;\n",
              "      --disabled-fill-color: #AAA;\n",
              "      --disabled-bg-color: #DDD;\n",
              "  }\n",
              "\n",
              "  [theme=dark] .colab-df-quickchart {\n",
              "      --bg-color: #3B4455;\n",
              "      --fill-color: #D2E3FC;\n",
              "      --hover-bg-color: #434B5C;\n",
              "      --hover-fill-color: #FFFFFF;\n",
              "      --disabled-bg-color: #3B4455;\n",
              "      --disabled-fill-color: #666;\n",
              "  }\n",
              "\n",
              "  .colab-df-quickchart {\n",
              "    background-color: var(--bg-color);\n",
              "    border: none;\n",
              "    border-radius: 50%;\n",
              "    cursor: pointer;\n",
              "    display: none;\n",
              "    fill: var(--fill-color);\n",
              "    height: 32px;\n",
              "    padding: 0;\n",
              "    width: 32px;\n",
              "  }\n",
              "\n",
              "  .colab-df-quickchart:hover {\n",
              "    background-color: var(--hover-bg-color);\n",
              "    box-shadow: 0 1px 2px rgba(60, 64, 67, 0.3), 0 1px 3px 1px rgba(60, 64, 67, 0.15);\n",
              "    fill: var(--button-hover-fill-color);\n",
              "  }\n",
              "\n",
              "  .colab-df-quickchart-complete:disabled,\n",
              "  .colab-df-quickchart-complete:disabled:hover {\n",
              "    background-color: var(--disabled-bg-color);\n",
              "    fill: var(--disabled-fill-color);\n",
              "    box-shadow: none;\n",
              "  }\n",
              "\n",
              "  .colab-df-spinner {\n",
              "    border: 2px solid var(--fill-color);\n",
              "    border-color: transparent;\n",
              "    border-bottom-color: var(--fill-color);\n",
              "    animation:\n",
              "      spin 1s steps(1) infinite;\n",
              "  }\n",
              "\n",
              "  @keyframes spin {\n",
              "    0% {\n",
              "      border-color: transparent;\n",
              "      border-bottom-color: var(--fill-color);\n",
              "      border-left-color: var(--fill-color);\n",
              "    }\n",
              "    20% {\n",
              "      border-color: transparent;\n",
              "      border-left-color: var(--fill-color);\n",
              "      border-top-color: var(--fill-color);\n",
              "    }\n",
              "    30% {\n",
              "      border-color: transparent;\n",
              "      border-left-color: var(--fill-color);\n",
              "      border-top-color: var(--fill-color);\n",
              "      border-right-color: var(--fill-color);\n",
              "    }\n",
              "    40% {\n",
              "      border-color: transparent;\n",
              "      border-right-color: var(--fill-color);\n",
              "      border-top-color: var(--fill-color);\n",
              "    }\n",
              "    60% {\n",
              "      border-color: transparent;\n",
              "      border-right-color: var(--fill-color);\n",
              "    }\n",
              "    80% {\n",
              "      border-color: transparent;\n",
              "      border-right-color: var(--fill-color);\n",
              "      border-bottom-color: var(--fill-color);\n",
              "    }\n",
              "    90% {\n",
              "      border-color: transparent;\n",
              "      border-bottom-color: var(--fill-color);\n",
              "    }\n",
              "  }\n",
              "</style>\n",
              "\n",
              "  <script>\n",
              "    async function quickchart(key) {\n",
              "      const quickchartButtonEl =\n",
              "        document.querySelector('#' + key + ' button');\n",
              "      quickchartButtonEl.disabled = true;  // To prevent multiple clicks.\n",
              "      quickchartButtonEl.classList.add('colab-df-spinner');\n",
              "      try {\n",
              "        const charts = await google.colab.kernel.invokeFunction(\n",
              "            'suggestCharts', [key], {});\n",
              "      } catch (error) {\n",
              "        console.error('Error during call to suggestCharts:', error);\n",
              "      }\n",
              "      quickchartButtonEl.classList.remove('colab-df-spinner');\n",
              "      quickchartButtonEl.classList.add('colab-df-quickchart-complete');\n",
              "    }\n",
              "    (() => {\n",
              "      let quickchartButtonEl =\n",
              "        document.querySelector('#df-dea0cbe4-820b-4806-a419-1c3f9d1b7b2d button');\n",
              "      quickchartButtonEl.style.display =\n",
              "        google.colab.kernel.accessAllowed ? 'block' : 'none';\n",
              "    })();\n",
              "  </script>\n",
              "</div>\n",
              "\n",
              "    </div>\n",
              "  </div>\n"
            ],
            "application/vnd.google.colaboratory.intrinsic+json": {
              "type": "dataframe",
              "variable_name": "df_results",
              "summary": "{\n  \"name\": \"df_results\",\n  \"rows\": 2,\n  \"fields\": [\n    {\n      \"column\": \"Algorithm\",\n      \"properties\": {\n        \"dtype\": \"string\",\n        \"num_unique_values\": 2,\n        \"samples\": [\n          \"A* with Manhattan Distance\",\n          \"Uniform Cost Search\"\n        ],\n        \"semantic_type\": \"\",\n        \"description\": \"\"\n      }\n    },\n    {\n      \"column\": \"Cost (Solution)\",\n      \"properties\": {\n        \"dtype\": \"number\",\n        \"std\": 0,\n        \"min\": 22,\n        \"max\": 22,\n        \"num_unique_values\": 1,\n        \"samples\": [\n          22\n        ],\n        \"semantic_type\": \"\",\n        \"description\": \"\"\n      }\n    },\n    {\n      \"column\": \"Execution Time (seconds)\",\n      \"properties\": {\n        \"dtype\": \"number\",\n        \"std\": 16.173529091084234,\n        \"min\": 0.1948690414428711,\n        \"max\": 23.06769323348999,\n        \"num_unique_values\": 2,\n        \"samples\": [\n          0.1948690414428711\n        ],\n        \"semantic_type\": \"\",\n        \"description\": \"\"\n      }\n    },\n    {\n      \"column\": \"Nodes Explored\",\n      \"properties\": {\n        \"dtype\": \"number\",\n        \"std\": 74526,\n        \"min\": 805,\n        \"max\": 106202,\n        \"num_unique_values\": 2,\n        \"samples\": [\n          805\n        ],\n        \"semantic_type\": \"\",\n        \"description\": \"\"\n      }\n    },\n    {\n      \"column\": \"Path Length\",\n      \"properties\": {\n        \"dtype\": \"number\",\n        \"std\": 0,\n        \"min\": 22,\n        \"max\": 22,\n        \"num_unique_values\": 1,\n        \"samples\": [\n          22\n        ],\n        \"semantic_type\": \"\",\n        \"description\": \"\"\n      }\n    }\n  ]\n}"
            }
          },
          "metadata": {},
          "execution_count": 29
        }
      ]
    },
    {
      "cell_type": "markdown",
      "source": [
        "The results show a clear difference in performance between Uniform Cost Search (UCS) and A* with the Manhattan Distance heuristic. Both algorithms find the optimal solution with a cost of 22 moves, but UCS takes 23.06 seconds and explores 106,202 nodes, while A* is much faster, taking only 0.19 seconds and exploring 805 nodes. This highlights the efficiency of the Manhattan heuristic in A*, which significantly reduces both the number of explored nodes and execution time while still providing the optimal solution."
      ],
      "metadata": {
        "id": "wcNj98qNcheJ"
      }
    }
  ]
}